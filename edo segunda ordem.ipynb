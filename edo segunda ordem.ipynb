{
 "cells": [
  {
   "cell_type": "markdown",
   "id": "54d2c24d",
   "metadata": {},
   "source": [
    "Este notebook deseja usar redes neurais para resolver a equação diferencial de segunda ordem, em especifico a equação de movimento do oscilador harmônico. \n",
    "$$\n",
    "\\ddot{x} + \\gamma \\dot{x} + \\omega^2 x = 0,\n",
    "$$\n",
    "$$\n",
    "x(0) = A.\n",
    "$$\n",
    "$$\n",
    "\\dot{x}(0) = A.\n",
    "$$\n",
    "\n",
    "Para isto, segundo (https://www.youtube.com/watch?v=o9JaZGWekWQ) faremos com que a rede use resultados parametrizados por\n",
    "$$\n",
    "\\Psi(x) = A + x ( b +  x N(x) ),\n",
    "$$\n",
    "que resolve automaticamente as condições de contorno.\n",
    "\n"
   ]
  },
  {
   "cell_type": "code",
   "execution_count": 1,
   "id": "cda1e979",
   "metadata": {},
   "outputs": [
    {
     "name": "stderr",
     "output_type": "stream",
     "text": [
      "2022-05-19 10:57:10.260031: W tensorflow/stream_executor/platform/default/dso_loader.cc:64] Could not load dynamic library 'libcudart.so.11.0'; dlerror: libcudart.so.11.0: cannot open shared object file: No such file or directory\n",
      "2022-05-19 10:57:10.260102: I tensorflow/stream_executor/cuda/cudart_stub.cc:29] Ignore above cudart dlerror if you do not have a GPU set up on your machine.\n"
     ]
    }
   ],
   "source": [
    "# Import TensorFlow and NumPy\n",
    "import tensorflow as tf\n",
    "from tensorflow import keras\n",
    "from keras.models import Model\n",
    "from keras.layers import Dense\n",
    "from keras.layers import LSTM\n",
    "from keras.layers import Input\n",
    "from keras import callbacks\n",
    "from keras.callbacks import ReduceLROnPlateau\n",
    "\n",
    "# Helper libraries\n",
    "import math\n",
    "import numpy as np\n",
    "import matplotlib.pyplot as plt\n",
    "from sklearn.model_selection import train_test_split      \n",
    "from sklearn.metrics import accuracy_score   \n",
    "\n",
    "# Set data type\n",
    "DTYPE='float32'\n",
    "tf.keras.backend.set_floatx(DTYPE)\n",
    "omega2 = 4\n",
    "gamma = 2\n",
    "\n",
    "def func(x, u, u_x, u_xx):\n",
    "    f = u_xx + gamma * u_x + omega2 * u\n",
    "    return f"
   ]
  },
  {
   "cell_type": "markdown",
   "id": "ffb2059e",
   "metadata": {},
   "source": [
    "Definimos uma simples arquitetura para a rede."
   ]
  },
  {
   "cell_type": "code",
   "execution_count": 2,
   "id": "fd8ce180",
   "metadata": {},
   "outputs": [
    {
     "name": "stderr",
     "output_type": "stream",
     "text": [
      "2022-05-19 10:57:28.010583: W tensorflow/stream_executor/platform/default/dso_loader.cc:64] Could not load dynamic library 'libcuda.so.1'; dlerror: libcuda.so.1: cannot open shared object file: No such file or directory\n",
      "2022-05-19 10:57:28.010728: W tensorflow/stream_executor/cuda/cuda_driver.cc:269] failed call to cuInit: UNKNOWN ERROR (303)\n",
      "2022-05-19 10:57:28.010783: I tensorflow/stream_executor/cuda/cuda_diagnostics.cc:156] kernel driver does not appear to be running on this host (ppgf28-Vostro-3470): /proc/driver/nvidia/version does not exist\n",
      "2022-05-19 10:57:28.063597: I tensorflow/core/platform/cpu_feature_guard.cc:151] This TensorFlow binary is optimized with oneAPI Deep Neural Network Library (oneDNN) to use the following CPU instructions in performance-critical operations:  AVX2 FMA\n",
      "To enable them in other operations, rebuild TensorFlow with the appropriate compiler flags.\n"
     ]
    }
   ],
   "source": [
    "rede = keras.Sequential()\n",
    "\n",
    "rede.add(Dense(1, input_dim=1))\n",
    "rede.add(Dense(50, activation = 'tanh'))\n",
    "rede.add(Dense(1))"
   ]
  },
  {
   "cell_type": "markdown",
   "id": "8d4301ba",
   "metadata": {},
   "source": [
    "Definimos o dominio da solução."
   ]
  },
  {
   "cell_type": "code",
   "execution_count": 3,
   "id": "8812a151",
   "metadata": {},
   "outputs": [],
   "source": [
    "# Set number of data points\n",
    "N_r = 5000\n",
    "\n",
    "# Set boundary\n",
    "xmin = 0.\n",
    "xmax = 4.\n",
    "u_0 = 0.\n",
    "\n",
    "# Lower bounds\n",
    "lb = tf.constant(xmin, dtype=DTYPE)\n",
    "# Upper bounds\n",
    "ub = tf.constant(xmax, dtype=DTYPE)\n",
    "\n",
    "# Set random seed for reproducible results\n",
    "tf.random.set_seed(0)\n",
    "\n",
    "# Draw uniformly sampled collocation points\n",
    "x_r = tf.random.uniform((N_r,1), lb, ub, dtype=DTYPE)"
   ]
  },
  {
   "cell_type": "code",
   "execution_count": 4,
   "id": "55096c6a",
   "metadata": {},
   "outputs": [
    {
     "name": "stdout",
     "output_type": "stream",
     "text": [
      "Model: \"sequential\"\n",
      "_________________________________________________________________\n",
      " Layer (type)                Output Shape              Param #   \n",
      "=================================================================\n",
      " dense (Dense)               (None, 1)                 2         \n",
      "                                                                 \n",
      " dense_1 (Dense)             (None, 50)                100       \n",
      "                                                                 \n",
      " dense_2 (Dense)             (None, 1)                 51        \n",
      "                                                                 \n",
      "=================================================================\n",
      "Total params: 153\n",
      "Trainable params: 153\n",
      "Non-trainable params: 0\n",
      "_________________________________________________________________\n"
     ]
    }
   ],
   "source": [
    "def get_r(model, x_r):\n",
    "    \n",
    "    # A tf.GradientTape is used to compute derivatives in TensorFlow\n",
    "    with tf.GradientTape(persistent=True) as tape:\n",
    "\n",
    "        x = x_r\n",
    "        tape.watch(x)\n",
    "\n",
    "        #Boundary\n",
    "        a = 3\n",
    "        b = 0\n",
    "        \n",
    "        # Determine residual \n",
    "        n = model(x)\n",
    "\n",
    "        # Compute gradient u_x within the GradientTape\n",
    "        # since we need second derivatives\n",
    "        n_x = tape.gradient(n, x)\n",
    "        n_xx = tape.gradient(n_x, x)\n",
    "        \n",
    "        u = a + x * ( b + x * n) \n",
    "        \n",
    "        \n",
    "#        u_x = (b + x * n) + x * (n + x * n_x)\n",
    "#        u_xx = 2*n + 2*x*n_x + x * ( 2*n_x + x * n_xx)       \n",
    "        \n",
    "        \n",
    "        u_x = tape.gradient(u, x)\n",
    "        u_xx = tape.gradient(u_x, x)\n",
    "        \n",
    "\n",
    "    del tape\n",
    "\n",
    "    return func(x, u, u_x, u_xx)\n",
    "\n",
    "\n",
    "def compute_loss(model, x_r):\n",
    "    \n",
    "    # Compute phi^r\n",
    "    r = get_r(model, x_r)\n",
    "    phi_r = tf.reduce_mean(tf.square(r))\n",
    "    \n",
    "    # Initialize loss\n",
    "    loss = phi_r\n",
    "\n",
    "    return loss\n",
    "\n",
    "def get_grad(model, x_r):\n",
    "    \n",
    "    with tf.GradientTape(persistent=True) as tape:\n",
    "        # This tape is for derivatives with\n",
    "        # respect to trainable variables\n",
    "        tape.watch(model.trainable_variables)\n",
    "        loss = compute_loss(model, x_r)\n",
    "\n",
    "    g = tape.gradient(loss, model.trainable_variables)\n",
    "    del tape\n",
    "\n",
    "    return loss, g\n",
    "\n",
    "\n",
    "rede.compile(optimizer=\"Adam\",\n",
    "            loss=compute_loss)\n",
    "\n",
    "rede.summary()"
   ]
  },
  {
   "cell_type": "code",
   "execution_count": 5,
   "id": "a3594f66",
   "metadata": {},
   "outputs": [],
   "source": [
    "lr = tf.keras.optimizers.schedules.PiecewiseConstantDecay([1000,3000],[1e-1,1e-2,5e-3])\n",
    "\n",
    "# Choose the optimizer\n",
    "optim = tf.keras.optimizers.Adam(learning_rate=lr)"
   ]
  },
  {
   "cell_type": "code",
   "execution_count": 13,
   "id": "855f96fb",
   "metadata": {},
   "outputs": [
    {
     "name": "stdout",
     "output_type": "stream",
     "text": [
      "[<tf.Tensor 'AddN_18:0' shape=(1, 1) dtype=float32>, <tf.Tensor 'gradient_tape/sequential/dense/BiasAdd/BiasAddGrad_4:0' shape=(1,) dtype=float32>, <tf.Tensor 'AddN_17:0' shape=(1, 50) dtype=float32>, <tf.Tensor 'gradient_tape/sequential/dense_1/BiasAdd/BiasAddGrad_4:0' shape=(50,) dtype=float32>, <tf.Tensor 'AddN_16:0' shape=(50, 1) dtype=float32>, <tf.Tensor 'gradient_tape/sequential/dense_2/BiasAdd/BiasAddGrad_3:0' shape=(1,) dtype=float32>]\n",
      "It 00000: loss = 6.64123073e-02\n",
      "It 00050: loss = 6.57871142e-02\n",
      "It 00100: loss = 6.51697963e-02\n",
      "It 00150: loss = 1.31993279e-01\n",
      "It 00200: loss = 7.73584321e-02\n",
      "It 00250: loss = 6.37547448e-02\n",
      "It 00300: loss = 6.30739406e-02\n",
      "It 00350: loss = 6.24820143e-02\n",
      "It 00400: loss = 6.18861467e-02\n",
      "It 00450: loss = 1.50748658e+00\n",
      "It 00500: loss = 7.76093751e-02\n",
      "It 00550: loss = 6.06184937e-02\n",
      "It 00600: loss = 5.99052198e-02\n",
      "It 00650: loss = 5.93115240e-02\n",
      "It 00700: loss = 5.87123036e-02\n",
      "It 00750: loss = 5.81056625e-02\n",
      "It 00800: loss = 6.59776211e-01\n",
      "It 00850: loss = 6.96982816e-02\n",
      "It 00900: loss = 5.67520857e-02\n",
      "It 00950: loss = 5.60945421e-02\n",
      "It 01000: loss = 5.54764643e-02\n",
      "It 01050: loss = 5.48496321e-02\n",
      "It 01100: loss = 5.42126819e-02\n",
      "It 01150: loss = 1.57953605e-01\n",
      "It 01200: loss = 5.54286614e-02\n",
      "It 01250: loss = 5.26807681e-02\n",
      "It 01300: loss = 5.20033576e-02\n",
      "It 01350: loss = 5.13297468e-02\n",
      "It 01400: loss = 5.06415106e-02\n",
      "It 01450: loss = 5.04349582e-02\n",
      "It 01500: loss = 5.32594621e-02\n",
      "It 01550: loss = 4.90220599e-02\n",
      "It 01600: loss = 4.82854247e-02\n",
      "It 01650: loss = 4.75359671e-02\n",
      "It 01700: loss = 4.67649996e-02\n",
      "It 01750: loss = 6.41629174e-02\n",
      "It 01800: loss = 6.23157062e-02\n",
      "It 01850: loss = 4.48533520e-02\n",
      "It 01900: loss = 4.39847596e-02\n",
      "It 01950: loss = 4.31158990e-02\n",
      "It 02000: loss = 4.22192328e-02\n",
      "It 02050: loss = 6.45361423e-01\n",
      "It 02100: loss = 6.60430044e-02\n",
      "It 02150: loss = 4.00124900e-02\n",
      "It 02200: loss = 3.90281603e-02\n",
      "It 02250: loss = 3.80239710e-02\n",
      "It 02300: loss = 3.69921401e-02\n",
      "It 02350: loss = 4.09858748e-02\n",
      "It 02400: loss = 9.51999873e-02\n",
      "It 02450: loss = 3.47370729e-02\n",
      "It 02500: loss = 3.33836600e-02\n",
      "It 02550: loss = 3.22734602e-02\n",
      "It 02600: loss = 3.11491787e-02\n",
      "It 02650: loss = 3.00101992e-02\n",
      "It 02700: loss = 5.48473656e-01\n",
      "It 02750: loss = 3.33292186e-02\n",
      "It 02800: loss = 2.78960299e-02\n",
      "It 02850: loss = 2.67214477e-02\n",
      "It 02900: loss = 2.56108064e-02\n",
      "It 02950: loss = 2.45045554e-02\n",
      "It 03000: loss = 2.34041382e-02\n",
      "It 03050: loss = 2.23131590e-02\n",
      "It 03100: loss = 2.12351587e-02\n",
      "It 03150: loss = 1.08280730e+00\n",
      "It 03200: loss = 2.41542775e-02\n",
      "It 03250: loss = 1.90532021e-02\n",
      "It 03300: loss = 1.80613808e-02\n",
      "It 03350: loss = 1.71034485e-02\n",
      "It 03400: loss = 1.61712915e-02\n",
      "It 03450: loss = 1.52684050e-02\n",
      "It 03500: loss = 1.12840794e-01\n",
      "It 03550: loss = 1.50778228e-02\n",
      "It 03600: loss = 1.34311644e-02\n",
      "It 03650: loss = 1.26296943e-02\n",
      "It 03700: loss = 1.18728243e-02\n",
      "It 03750: loss = 1.11714313e-02\n",
      "It 03800: loss = 6.72466308e-02\n",
      "It 03850: loss = 1.13814119e-02\n",
      "It 03900: loss = 9.72111337e-03\n",
      "It 03950: loss = 9.10011306e-03\n",
      "It 04000: loss = 8.51696823e-03\n",
      "It 04050: loss = 4.28349972e-02\n",
      "It 04100: loss = 8.07135273e-03\n",
      "It 04150: loss = 7.50768417e-03\n",
      "It 04200: loss = 6.94131758e-03\n",
      "It 04250: loss = 6.48621982e-03\n",
      "It 04300: loss = 6.05858490e-03\n",
      "It 04350: loss = 6.43288970e-01\n",
      "It 04400: loss = 1.10766403e-02\n",
      "It 04450: loss = 5.39545063e-03\n",
      "It 04500: loss = 5.04355226e-03\n",
      "It 04550: loss = 4.71942686e-03\n",
      "It 04600: loss = 4.41935379e-03\n",
      "It 04650: loss = 4.14169999e-03\n",
      "It 04700: loss = 2.46311641e+00\n",
      "It 04750: loss = 8.75985436e-03\n",
      "It 04800: loss = 3.90249793e-03\n",
      "It 04850: loss = 3.62448511e-03\n",
      "It 04900: loss = 3.41705629e-03\n",
      "It 04950: loss = 3.22837755e-03\n",
      "It 05000: loss = 3.05693317e-03\n",
      "\n",
      "Computation time: 44.93149375915527 seconds\n"
     ]
    }
   ],
   "source": [
    "from time import time\n",
    "\n",
    "# Define one training step as a TensorFlow function to increase speed of training\n",
    "@tf.function\n",
    "def train_step():\n",
    "    # Compute current loss and gradient w.r.t. parameters\n",
    "    loss, grad_theta = get_grad(rede, x_r)\n",
    "    print(grad_theta)\n",
    "    # Perform gradient descent step\n",
    "    optim.apply_gradients(zip(grad_theta, rede.trainable_variables))\n",
    "    \n",
    "    return loss\n",
    "\n",
    "# Number of training epochs\n",
    "N = 5000\n",
    "hist = []\n",
    "\n",
    "# Start timer\n",
    "t0 = time()\n",
    "\n",
    "for i in range(N+1):\n",
    "    \n",
    "    loss = train_step()\n",
    "    \n",
    "    # Append current loss to hist\n",
    "    hist.append(loss.numpy())\n",
    "    \n",
    "    # Output current loss after 50 iterates\n",
    "    if i%50 == 0:\n",
    "        print('It {:05d}: loss = {:10.8e}'.format(i,loss))\n",
    "        \n",
    "# Print computation time\n",
    "print('\\nComputation time: {} seconds'.format(time()-t0))"
   ]
  },
  {
   "cell_type": "code",
   "execution_count": 14,
   "id": "84d0a455",
   "metadata": {},
   "outputs": [
    {
     "name": "stdout",
     "output_type": "stream",
     "text": [
      "(601, 1)\n",
      "(601,)\n",
      "(601, 1)\n"
     ]
    }
   ],
   "source": [
    "import matplotlib.pyplot as plt\n",
    "\n",
    "# Set up meshgrid\n",
    "N = 600\n",
    "x = np.linspace(lb, ub, N + 1)\n",
    "\n",
    "n = rede(x)\n",
    "\n",
    "print(n.shape)\n",
    "\n",
    "nn = np.reshape(n, 601)\n",
    "\n",
    "print(x.shape)\n",
    "print(n.shape)\n",
    "\n",
    "a = 3\n",
    "b = 0\n",
    "\n",
    "u = a + x *( b + x * nn )\n",
    "\n",
    "y = np.exp(-x)*(math.sqrt(3)*np.sin(math.sqrt(3)*x) + 3*np.cos(math.sqrt(3)*x))\n"
   ]
  },
  {
   "cell_type": "code",
   "execution_count": 15,
   "id": "8169c38b",
   "metadata": {},
   "outputs": [
    {
     "data": {
      "image/png": "[encoded data removed]",
      "text/plain": [
       "<Figure size 432x288 with 1 Axes>"
      ]
     },
     "metadata": {
      "needs_background": "light"
     },
     "output_type": "display_data"
    },
    {
     "data": {
      "text/plain": [
       "<Figure size 432x288 with 0 Axes>"
      ]
     },
     "metadata": {},
     "output_type": "display_data"
    }
   ],
   "source": [
    "plt.xlabel(\"t\")\n",
    "plt.ylabel(\"x\")\n",
    "plt.plot(x, u, '.', markersize=2)\n",
    "plt.plot(x, y, '-', markersize=2)\n",
    "\n",
    "plt.grid()\n",
    "\n",
    "plt.show()\n",
    "plt.clf()"
   ]
  },
  {
   "cell_type": "code",
   "execution_count": null,
   "id": "36fba5b8",
   "metadata": {},
   "outputs": [],
   "source": []
  },
  {
   "cell_type": "code",
   "execution_count": null,
   "id": "94caf183",
   "metadata": {},
   "outputs": [],
   "source": []
  }
 ],
 "metadata": {
  "kernelspec": {
   "display_name": "Python 3 (ipykernel)",
   "language": "python",
   "name": "python3"
  },
  "language_info": {
   "codemirror_mode": {
    "name": "ipython",
    "version": 3
   },
   "file_extension": ".py",
   "mimetype": "text/x-python",
   "name": "python",
   "nbconvert_exporter": "python",
   "pygments_lexer": "ipython3",
   "version": "3.9.7"
  }
 },
 "nbformat": 4,
 "nbformat_minor": 5
}
