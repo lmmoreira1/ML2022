{
 "cells": [
  {
   "cell_type": "markdown",
   "id": "54d2c24d",
   "metadata": {},
   "source": [
    "Este notebook deseja usar redes neurais para resolver a equação diferencial (não linear) de primeira ordem. \n",
    "$$\n",
    "\\frac{\\Psi(x)}{dx} = f(x,\\Psi),\n",
    "$$\n",
    "$$\n",
    "\\Psi(0) = A.\n",
    "$$\n",
    "\n",
    "Para isto, segundo (https://www.youtube.com/watch?v=o9JaZGWekWQ) faremos com que a rede use resultados parametrizados por\n",
    "$$\n",
    "\\Psi(x) = A + x N(x),\n",
    "$$\n",
    "que resolve automaticamente as condições de contorno.\n",
    "\n",
    "Estamos então interessados em minimizar o erro na função loss\n",
    "$$\n",
    "\\mathcal{L} = \\sum_i \\left[ \\frac{\\Psi(x_i)}{dx_i} - f(x_i,\\Psi) \\right].\n",
    "$$\n",
    "Onde $x_i$ são os pontos de colocação no domínio da solução, em geral uniformemente distribuidos.\n",
    "\n",
    "\n",
    "\n",
    "Começando o notebook vamos importar bibliotecas que podem ser uteis e definindo a função de integração.\n",
    "Neste caso iremos resolver o problema\n",
    "$$\n",
    "\\frac{\\Psi(x)}{dx} = exp\\left[\\frac{-x}{5}\\right] \\cos(x)-\\frac{\\Psi(x)}{5},\n",
    "$$\n",
    "$$\n",
    "\\Psi(0) = 0.\n",
    "$$\n",
    "\n",
    "\n",
    "\n",
    "Importemos algumas bibliotecas e definamos a função a ser minimizada.\n"
   ]
  },
  {
   "cell_type": "code",
   "execution_count": 1,
   "id": "cda1e979",
   "metadata": {},
   "outputs": [
    {
     "name": "stderr",
     "output_type": "stream",
     "text": [
      "2022-05-26 12:17:56.001826: W tensorflow/stream_executor/platform/default/dso_loader.cc:64] Could not load dynamic library 'libcudart.so.11.0'; dlerror: libcudart.so.11.0: cannot open shared object file: No such file or directory\n",
      "2022-05-26 12:17:56.001897: I tensorflow/stream_executor/cuda/cudart_stub.cc:29] Ignore above cudart dlerror if you do not have a GPU set up on your machine.\n"
     ]
    }
   ],
   "source": [
    "# Import TensorFlow and NumPy\n",
    "import tensorflow as tf\n",
    "from tensorflow import keras\n",
    "from keras.models import Model\n",
    "from keras.layers import Dense\n",
    "from keras.layers import LSTM\n",
    "from keras.layers import Input\n",
    "from keras import callbacks\n",
    "from keras.callbacks import ReduceLROnPlateau\n",
    "\n",
    "# Helper libraries\n",
    "import numpy as np\n",
    "import matplotlib.pyplot as plt\n",
    "from sklearn.model_selection import train_test_split      \n",
    "from sklearn.metrics import accuracy_score   \n",
    "\n",
    "# Set data type\n",
    "DTYPE='float32'\n",
    "tf.keras.backend.set_floatx(DTYPE)\n",
    "\n",
    "def func(x, u, u_x):\n",
    "    f = u_x - tf.exp(-x/5) * tf.cos(x) + u / 5\n",
    "    return f"
   ]
  },
  {
   "cell_type": "code",
   "execution_count": 2,
   "id": "fd8ce180",
   "metadata": {},
   "outputs": [
    {
     "name": "stderr",
     "output_type": "stream",
     "text": [
      "2022-05-26 12:33:28.470204: W tensorflow/stream_executor/platform/default/dso_loader.cc:64] Could not load dynamic library 'libcuda.so.1'; dlerror: libcuda.so.1: cannot open shared object file: No such file or directory\n",
      "2022-05-26 12:33:28.485802: W tensorflow/stream_executor/cuda/cuda_driver.cc:269] failed call to cuInit: UNKNOWN ERROR (303)\n",
      "2022-05-26 12:33:28.493426: I tensorflow/stream_executor/cuda/cuda_diagnostics.cc:156] kernel driver does not appear to be running on this host (ppgf28-Vostro-3470): /proc/driver/nvidia/version does not exist\n",
      "2022-05-26 12:33:28.662928: I tensorflow/core/platform/cpu_feature_guard.cc:151] This TensorFlow binary is optimized with oneAPI Deep Neural Network Library (oneDNN) to use the following CPU instructions in performance-critical operations:  AVX2 FMA\n",
      "To enable them in other operations, rebuild TensorFlow with the appropriate compiler flags.\n"
     ]
    }
   ],
   "source": [
    "rede = keras.Sequential()\n",
    "\n",
    "rede.add(Dense(1, input_dim=1))\n",
    "rede.add(Dense(50, activation = 'tanh'))\n",
    "rede.add(Dense(1))"
   ]
  },
  {
   "cell_type": "code",
   "execution_count": 24,
   "id": "8812a151",
   "metadata": {},
   "outputs": [],
   "source": [
    "# Set number of data points\n",
    "N_r = 500\n",
    "\n",
    "# Set boundary\n",
    "xmin = 0.\n",
    "xmax = 2.\n",
    "u_0 = 0.\n",
    "\n",
    "# Lower bounds\n",
    "lb = tf.constant(xmin, dtype=DTYPE)\n",
    "# Upper bounds\n",
    "ub = tf.constant(xmax, dtype=DTYPE)\n",
    "\n",
    "# Set random seed for reproducible results\n",
    "tf.random.set_seed(0)\n",
    "\n",
    "# Draw uniformly sampled collocation points\n",
    "x_r = tf.random.uniform((N_r,1), lb, ub, dtype=DTYPE)"
   ]
  },
  {
   "cell_type": "code",
   "execution_count": 25,
   "id": "55096c6a",
   "metadata": {},
   "outputs": [
    {
     "name": "stdout",
     "output_type": "stream",
     "text": [
      "Model: \"sequential_2\"\n",
      "_________________________________________________________________\n",
      " Layer (type)                Output Shape              Param #   \n",
      "=================================================================\n",
      " dense_6 (Dense)             (None, 1)                 2         \n",
      "                                                                 \n",
      " dense_7 (Dense)             (None, 50)                100       \n",
      "                                                                 \n",
      " dense_8 (Dense)             (None, 1)                 51        \n",
      "                                                                 \n",
      "=================================================================\n",
      "Total params: 153\n",
      "Trainable params: 153\n",
      "Non-trainable params: 0\n",
      "_________________________________________________________________\n"
     ]
    }
   ],
   "source": [
    "def get_r(model, x_r):\n",
    "    \n",
    "    # A tf.GradientTape is used to compute derivatives in TensorFlow\n",
    "    with tf.GradientTape(persistent=True) as tape:\n",
    "\n",
    "        x = x_r\n",
    "        tape.watch(x)\n",
    "\n",
    "        # Determine residual \n",
    "        n = model(x)\n",
    "\n",
    "        # Compute gradient u_x within the GradientTape\n",
    "        # since we need second derivatives\n",
    "        n_x = tape.gradient(n, x)\n",
    "        \n",
    "        u = x * n\n",
    "        u_x = n + x * n_x\n",
    "\n",
    "    del tape\n",
    "\n",
    "    return func(x, u, u_x)\n",
    "\n",
    "\n",
    "def compute_loss(model, x_r):\n",
    "    \n",
    "    # Compute phi^r\n",
    "    r = get_r(model, x_r)\n",
    "    phi_r = tf.reduce_mean(tf.square(r))\n",
    "    \n",
    "    # Initialize loss\n",
    "    loss = phi_r\n",
    "\n",
    "    return loss\n",
    "\n",
    "def get_grad(model, x_r):\n",
    "    \n",
    "    with tf.GradientTape(persistent=True) as tape:\n",
    "        # This tape is for derivatives with\n",
    "        # respect to trainable variables\n",
    "        tape.watch(model.trainable_variables)\n",
    "        loss = compute_loss(model, x_r)\n",
    "\n",
    "    g = tape.gradient(loss, model.trainable_variables)\n",
    "    del tape\n",
    "\n",
    "    return loss, g\n",
    "\n",
    "\n",
    "rede.compile(optimizer=\"Adam\",\n",
    "            loss=compute_loss)\n",
    "\n",
    "rede.summary()"
   ]
  },
  {
   "cell_type": "code",
   "execution_count": 26,
   "id": "a3594f66",
   "metadata": {},
   "outputs": [],
   "source": [
    "lr = tf.keras.optimizers.schedules.PiecewiseConstantDecay([4000,8000],[1e-1,1e-2,5e-4])\n",
    "\n",
    "# Choose the optimizer\n",
    "optim = tf.keras.optimizers.Adam(learning_rate=lr)"
   ]
  },
  {
   "cell_type": "code",
   "execution_count": 27,
   "id": "855f96fb",
   "metadata": {},
   "outputs": [
    {
     "name": "stdout",
     "output_type": "stream",
     "text": [
      "[<tf.Tensor 'AddN_4:0' shape=(1, 1) dtype=float32>, <tf.Tensor 'gradient_tape/sequential_2/dense_6/BiasAdd/BiasAddGrad_1:0' shape=(1,) dtype=float32>, <tf.Tensor 'AddN_3:0' shape=(1, 50) dtype=float32>, <tf.Tensor 'gradient_tape/sequential_2/dense_7/BiasAdd/BiasAddGrad_1:0' shape=(50,) dtype=float32>, <tf.Tensor 'AddN_2:0' shape=(50, 1) dtype=float32>, <tf.Tensor 'gradient_tape/sequential_2/dense_8/BiasAdd/BiasAddGrad_1:0' shape=(1,) dtype=float32>]\n",
      "[<tf.Tensor 'AddN_4:0' shape=(1, 1) dtype=float32>, <tf.Tensor 'gradient_tape/sequential_2/dense_6/BiasAdd/BiasAddGrad_1:0' shape=(1,) dtype=float32>, <tf.Tensor 'AddN_3:0' shape=(1, 50) dtype=float32>, <tf.Tensor 'gradient_tape/sequential_2/dense_7/BiasAdd/BiasAddGrad_1:0' shape=(50,) dtype=float32>, <tf.Tensor 'AddN_2:0' shape=(50, 1) dtype=float32>, <tf.Tensor 'gradient_tape/sequential_2/dense_8/BiasAdd/BiasAddGrad_1:0' shape=(1,) dtype=float32>]\n",
      "It 00000: loss = 3.64126593e-01\n",
      "It 00050: loss = 1.76439958e-03\n",
      "It 00100: loss = 4.22887271e-04\n",
      "It 00150: loss = 3.98408883e-04\n",
      "It 00200: loss = 3.96711170e-04\n",
      "It 00250: loss = 3.94823583e-04\n",
      "It 00300: loss = 3.92573187e-04\n",
      "It 00350: loss = 3.89908877e-04\n",
      "It 00400: loss = 3.86762695e-04\n",
      "It 00450: loss = 3.83043167e-04\n",
      "It 00500: loss = 3.78626341e-04\n",
      "It 00550: loss = 3.73344868e-04\n",
      "It 00600: loss = 3.66965076e-04\n",
      "It 00650: loss = 3.59155471e-04\n",
      "It 00700: loss = 3.49432637e-04\n",
      "It 00750: loss = 3.37069912e-04\n",
      "It 00800: loss = 3.20950436e-04\n",
      "It 00850: loss = 2.99321371e-04\n",
      "It 00900: loss = 7.47639628e-04\n",
      "It 00950: loss = 2.19431327e-04\n",
      "It 01000: loss = 1.69418374e-04\n",
      "It 01050: loss = 1.09172644e-04\n",
      "It 01100: loss = 4.98871523e-05\n",
      "It 01150: loss = 1.41260516e-05\n",
      "It 01200: loss = 4.91198898e-06\n",
      "It 01250: loss = 4.06135723e-06\n",
      "It 01300: loss = 4.01851275e-06\n",
      "It 01350: loss = 4.00604404e-06\n",
      "It 01400: loss = 2.49611476e-04\n",
      "It 01450: loss = 6.69936389e-06\n",
      "It 01500: loss = 4.34455114e-06\n",
      "It 01550: loss = 4.19194248e-06\n",
      "It 01600: loss = 4.16431976e-06\n",
      "It 01650: loss = 4.14092847e-06\n",
      "It 01700: loss = 4.11648352e-06\n",
      "It 01750: loss = 4.09074482e-06\n",
      "It 01800: loss = 4.06361232e-06\n",
      "It 01850: loss = 4.03497825e-06\n",
      "It 01900: loss = 4.00474755e-06\n",
      "It 01950: loss = 3.97282338e-06\n",
      "It 02000: loss = 4.25066582e-06\n",
      "\n",
      "Computation time: 1.8588552474975586 seconds\n"
     ]
    }
   ],
   "source": [
    "from time import time\n",
    "\n",
    "# Define one training step as a TensorFlow function to increase speed of training\n",
    "@tf.function\n",
    "def train_step():\n",
    "    # Compute current loss and gradient w.r.t. parameters\n",
    "    loss, grad_theta = get_grad(rede, x_r)\n",
    "    print(grad_theta)\n",
    "    # Perform gradient descent step\n",
    "    optim.apply_gradients(zip(grad_theta, rede.trainable_variables))\n",
    "    \n",
    "    return loss\n",
    "\n",
    "# Number of training epochs\n",
    "N = 2000\n",
    "hist = []\n",
    "\n",
    "# Start timer\n",
    "t0 = time()\n",
    "\n",
    "for i in range(N+1):\n",
    "    \n",
    "    loss = train_step()\n",
    "    \n",
    "    # Append current loss to hist\n",
    "    hist.append(loss.numpy())\n",
    "    \n",
    "    # Output current loss after 50 iterates\n",
    "    if i%50 == 0:\n",
    "        print('It {:05d}: loss = {:10.8e}'.format(i,loss))\n",
    "        \n",
    "# Print computation time\n",
    "print('\\nComputation time: {} seconds'.format(time()-t0))"
   ]
  },
  {
   "cell_type": "code",
   "execution_count": 30,
   "id": "84d0a455",
   "metadata": {},
   "outputs": [
    {
     "name": "stdout",
     "output_type": "stream",
     "text": [
      "(601,)\n",
      "(601,)\n"
     ]
    }
   ],
   "source": [
    "import matplotlib.pyplot as plt\n",
    "\n",
    "# Set up meshgrid\n",
    "N = 600\n",
    "x = np.linspace(lb, ub, N + 1)\n",
    "\n",
    "n = rede(x)\n",
    "\n",
    "nn = np.reshape(n, 601)\n",
    "\n",
    "print(x.shape)\n",
    "print(nn.shape)\n",
    "\n",
    "u = x * nn\n",
    "\n",
    "\n",
    "y = np.exp(-x/5)*np.sin(x)\n"
   ]
  },
  {
   "cell_type": "code",
   "execution_count": 31,
   "id": "36fba5b8",
   "metadata": {},
   "outputs": [
    {
     "data": {
      "image/png": "[encoded data removed]",
      "text/plain": [
       "<Figure size 432x288 with 1 Axes>"
      ]
     },
     "metadata": {
      "needs_background": "light"
     },
     "output_type": "display_data"
    },
    {
     "data": {
      "text/plain": [
       "<Figure size 432x288 with 0 Axes>"
      ]
     },
     "metadata": {},
     "output_type": "display_data"
    },
    {
     "data": {
      "text/plain": [
       "<Figure size 432x288 with 0 Axes>"
      ]
     },
     "metadata": {},
     "output_type": "display_data"
    }
   ],
   "source": [
    "plt.xlabel(\"t\")\n",
    "plt.ylabel(\"x\")\n",
    "plt.plot(x, u, '.', markersize=2)\n",
    "plt.plot(x, y, '-', markersize=2)\n",
    "\n",
    "\n",
    "plt.show()\n",
    "plt.clf()\n",
    "\n",
    "\n",
    "plt.show()\n",
    "plt.clf()"
   ]
  },
  {
   "cell_type": "code",
   "execution_count": null,
   "id": "94caf183",
   "metadata": {},
   "outputs": [],
   "source": []
  }
 ],
 "metadata": {
  "kernelspec": {
   "display_name": "Python 3 (ipykernel)",
   "language": "python",
   "name": "python3"
  },
  "language_info": {
   "codemirror_mode": {
    "name": "ipython",
    "version": 3
   },
   "file_extension": ".py",
   "mimetype": "text/x-python",
   "name": "python",
   "nbconvert_exporter": "python",
   "pygments_lexer": "ipython3",
   "version": "3.9.7"
  }
 },
 "nbformat": 4,
 "nbformat_minor": 5
}
